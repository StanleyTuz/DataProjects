{
 "cells": [
  {
   "cell_type": "code",
   "execution_count": 1,
   "metadata": {},
   "outputs": [],
   "source": [
    "import pandas as pd\n",
    "import numpy as np\n",
    "\n",
    "import matplotlib.pyplot as plt\n"
   ]
  },
  {
   "cell_type": "code",
   "execution_count": 2,
   "metadata": {},
   "outputs": [],
   "source": [
    "with open('exonerations.xlsx','rb') as fin:\n",
    "    df = pd.read_excel(fin, \n",
    "                  names = ['lastname','firstname','age','race','sex','state',\n",
    "                          'county','tags','wcd','lacr','yr_o','yr_c','yr_e',\n",
    "                          'sentence','dna','star','fc','mwid','f/mfe','p/fa',\n",
    "                          'om','ild','postdate','id'])"
   ]
  },
  {
   "cell_type": "markdown",
   "metadata": {},
   "source": [
    "Use `pd.DataFrame.groupby` to combine or split the data.\n",
    "\n",
    "The `by` argument can be a mapping, function, label, or list of labels.\n",
    "\n",
    "Returns a `DataFrameGroupBy` object."
   ]
  },
  {
   "cell_type": "code",
   "execution_count": 3,
   "metadata": {},
   "outputs": [
    {
     "name": "stdout",
     "output_type": "stream",
     "text": [
      "<class 'pandas.core.groupby.groupby.DataFrameGroupBy'>\n",
      "['Black' 'White' 'Hispanic' 'Other' 'Asian' 'Native American']\n"
     ]
    }
   ],
   "source": [
    "df_race = df.groupby(['race'])\n",
    "\n",
    "print(type(df_race))\n",
    "races = df['race'].unique()\n",
    "print(races)"
   ]
  },
  {
   "cell_type": "code",
   "execution_count": 4,
   "metadata": {
    "scrolled": true
   },
   "outputs": [
    {
     "data": {
      "text/html": [
       "<div>\n",
       "<style scoped>\n",
       "    .dataframe tbody tr th:only-of-type {\n",
       "        vertical-align: middle;\n",
       "    }\n",
       "\n",
       "    .dataframe tbody tr th {\n",
       "        vertical-align: top;\n",
       "    }\n",
       "\n",
       "    .dataframe thead th {\n",
       "        text-align: right;\n",
       "    }\n",
       "</style>\n",
       "<table border=\"1\" class=\"dataframe\">\n",
       "  <thead>\n",
       "    <tr style=\"text-align: right;\">\n",
       "      <th></th>\n",
       "      <th>lastname</th>\n",
       "      <th>firstname</th>\n",
       "      <th>age</th>\n",
       "      <th>sex</th>\n",
       "      <th>state</th>\n",
       "      <th>county</th>\n",
       "      <th>tags</th>\n",
       "      <th>wcd</th>\n",
       "      <th>lacr</th>\n",
       "      <th>yr_o</th>\n",
       "      <th>...</th>\n",
       "      <th>dna</th>\n",
       "      <th>star</th>\n",
       "      <th>fc</th>\n",
       "      <th>mwid</th>\n",
       "      <th>f/mfe</th>\n",
       "      <th>p/fa</th>\n",
       "      <th>om</th>\n",
       "      <th>ild</th>\n",
       "      <th>postdate</th>\n",
       "      <th>id</th>\n",
       "    </tr>\n",
       "    <tr>\n",
       "      <th>race</th>\n",
       "      <th></th>\n",
       "      <th></th>\n",
       "      <th></th>\n",
       "      <th></th>\n",
       "      <th></th>\n",
       "      <th></th>\n",
       "      <th></th>\n",
       "      <th></th>\n",
       "      <th></th>\n",
       "      <th></th>\n",
       "      <th></th>\n",
       "      <th></th>\n",
       "      <th></th>\n",
       "      <th></th>\n",
       "      <th></th>\n",
       "      <th></th>\n",
       "      <th></th>\n",
       "      <th></th>\n",
       "      <th></th>\n",
       "      <th></th>\n",
       "      <th></th>\n",
       "    </tr>\n",
       "  </thead>\n",
       "  <tbody>\n",
       "    <tr>\n",
       "      <th>Asian</th>\n",
       "      <td>23</td>\n",
       "      <td>23</td>\n",
       "      <td>23</td>\n",
       "      <td>23</td>\n",
       "      <td>23</td>\n",
       "      <td>19</td>\n",
       "      <td>21</td>\n",
       "      <td>23</td>\n",
       "      <td>7</td>\n",
       "      <td>23</td>\n",
       "      <td>...</td>\n",
       "      <td>1</td>\n",
       "      <td>0</td>\n",
       "      <td>0</td>\n",
       "      <td>2</td>\n",
       "      <td>4</td>\n",
       "      <td>8</td>\n",
       "      <td>9</td>\n",
       "      <td>9</td>\n",
       "      <td>23</td>\n",
       "      <td>23</td>\n",
       "    </tr>\n",
       "    <tr>\n",
       "      <th>Black</th>\n",
       "      <td>1167</td>\n",
       "      <td>1167</td>\n",
       "      <td>1163</td>\n",
       "      <td>1167</td>\n",
       "      <td>1167</td>\n",
       "      <td>1151</td>\n",
       "      <td>1017</td>\n",
       "      <td>1167</td>\n",
       "      <td>538</td>\n",
       "      <td>1167</td>\n",
       "      <td>...</td>\n",
       "      <td>286</td>\n",
       "      <td>59</td>\n",
       "      <td>150</td>\n",
       "      <td>429</td>\n",
       "      <td>248</td>\n",
       "      <td>669</td>\n",
       "      <td>658</td>\n",
       "      <td>294</td>\n",
       "      <td>1167</td>\n",
       "      <td>1167</td>\n",
       "    </tr>\n",
       "    <tr>\n",
       "      <th>Hispanic</th>\n",
       "      <td>283</td>\n",
       "      <td>283</td>\n",
       "      <td>282</td>\n",
       "      <td>283</td>\n",
       "      <td>283</td>\n",
       "      <td>279</td>\n",
       "      <td>250</td>\n",
       "      <td>283</td>\n",
       "      <td>86</td>\n",
       "      <td>283</td>\n",
       "      <td>...</td>\n",
       "      <td>37</td>\n",
       "      <td>10</td>\n",
       "      <td>30</td>\n",
       "      <td>96</td>\n",
       "      <td>41</td>\n",
       "      <td>159</td>\n",
       "      <td>147</td>\n",
       "      <td>86</td>\n",
       "      <td>283</td>\n",
       "      <td>283</td>\n",
       "    </tr>\n",
       "    <tr>\n",
       "      <th>Native American</th>\n",
       "      <td>18</td>\n",
       "      <td>18</td>\n",
       "      <td>18</td>\n",
       "      <td>18</td>\n",
       "      <td>18</td>\n",
       "      <td>18</td>\n",
       "      <td>17</td>\n",
       "      <td>18</td>\n",
       "      <td>8</td>\n",
       "      <td>18</td>\n",
       "      <td>...</td>\n",
       "      <td>4</td>\n",
       "      <td>2</td>\n",
       "      <td>4</td>\n",
       "      <td>8</td>\n",
       "      <td>6</td>\n",
       "      <td>11</td>\n",
       "      <td>9</td>\n",
       "      <td>4</td>\n",
       "      <td>18</td>\n",
       "      <td>18</td>\n",
       "    </tr>\n",
       "    <tr>\n",
       "      <th>Other</th>\n",
       "      <td>15</td>\n",
       "      <td>15</td>\n",
       "      <td>15</td>\n",
       "      <td>15</td>\n",
       "      <td>15</td>\n",
       "      <td>13</td>\n",
       "      <td>11</td>\n",
       "      <td>15</td>\n",
       "      <td>6</td>\n",
       "      <td>15</td>\n",
       "      <td>...</td>\n",
       "      <td>1</td>\n",
       "      <td>1</td>\n",
       "      <td>1</td>\n",
       "      <td>4</td>\n",
       "      <td>3</td>\n",
       "      <td>7</td>\n",
       "      <td>5</td>\n",
       "      <td>4</td>\n",
       "      <td>15</td>\n",
       "      <td>15</td>\n",
       "    </tr>\n",
       "    <tr>\n",
       "      <th>White</th>\n",
       "      <td>914</td>\n",
       "      <td>914</td>\n",
       "      <td>913</td>\n",
       "      <td>914</td>\n",
       "      <td>914</td>\n",
       "      <td>894</td>\n",
       "      <td>849</td>\n",
       "      <td>914</td>\n",
       "      <td>338</td>\n",
       "      <td>914</td>\n",
       "      <td>...</td>\n",
       "      <td>161</td>\n",
       "      <td>53</td>\n",
       "      <td>109</td>\n",
       "      <td>145</td>\n",
       "      <td>257</td>\n",
       "      <td>556</td>\n",
       "      <td>469</td>\n",
       "      <td>218</td>\n",
       "      <td>914</td>\n",
       "      <td>914</td>\n",
       "    </tr>\n",
       "  </tbody>\n",
       "</table>\n",
       "<p>6 rows × 23 columns</p>\n",
       "</div>"
      ],
      "text/plain": [
       "                 lastname  firstname   age   sex  state  county  tags   wcd  \\\n",
       "race                                                                          \n",
       "Asian                  23         23    23    23     23      19    21    23   \n",
       "Black                1167       1167  1163  1167   1167    1151  1017  1167   \n",
       "Hispanic              283        283   282   283    283     279   250   283   \n",
       "Native American        18         18    18    18     18      18    17    18   \n",
       "Other                  15         15    15    15     15      13    11    15   \n",
       "White                 914        914   913   914    914     894   849   914   \n",
       "\n",
       "                 lacr  yr_o  ...   dna  star   fc  mwid  f/mfe  p/fa   om  \\\n",
       "race                         ...                                            \n",
       "Asian               7    23  ...     1     0    0     2      4     8    9   \n",
       "Black             538  1167  ...   286    59  150   429    248   669  658   \n",
       "Hispanic           86   283  ...    37    10   30    96     41   159  147   \n",
       "Native American     8    18  ...     4     2    4     8      6    11    9   \n",
       "Other               6    15  ...     1     1    1     4      3     7    5   \n",
       "White             338   914  ...   161    53  109   145    257   556  469   \n",
       "\n",
       "                 ild  postdate    id  \n",
       "race                                  \n",
       "Asian              9        23    23  \n",
       "Black            294      1167  1167  \n",
       "Hispanic          86       283   283  \n",
       "Native American    4        18    18  \n",
       "Other              4        15    15  \n",
       "White            218       914   914  \n",
       "\n",
       "[6 rows x 23 columns]"
      ]
     },
     "execution_count": 4,
     "metadata": {},
     "output_type": "execute_result"
    }
   ],
   "source": [
    "df_race.get_group(races[0])\n",
    "\n",
    "df_race.count()"
   ]
  },
  {
   "cell_type": "code",
   "execution_count": 5,
   "metadata": {},
   "outputs": [],
   "source": [
    "df['time_elapsed'] = df['yr_e'] - df['yr_c']\n",
    "longest = df['time_elapsed'].unique().max()"
   ]
  },
  {
   "cell_type": "code",
   "execution_count": 6,
   "metadata": {},
   "outputs": [
    {
     "data": {
      "image/png": "[encoded data removed]",
      "text/plain": [
       "<Figure size 720x720 with 1 Axes>"
      ]
     },
     "metadata": {
      "needs_background": "light"
     },
     "output_type": "display_data"
    }
   ],
   "source": [
    "fig, ax = plt.subplots(figsize=(10,10))\n",
    "df.hist('time_elapsed', bins=np.arange(longest)-0.5, ax=ax,color='g',\n",
    "       weights = np.ones_like(df['time_elapsed']) / len(df['time_elapsed']))\n",
    "ax.set_title('Time between conviction and exoneration')\n",
    "ax.set_xlabel('years')\n",
    "ax.set_ylabel('count')\n",
    "ax.grid(False)\n",
    "\n",
    "plt.show()"
   ]
  },
  {
   "cell_type": "code",
   "execution_count": 7,
   "metadata": {},
   "outputs": [
    {
     "data": {
      "text/html": [
       "<div>\n",
       "<style scoped>\n",
       "    .dataframe tbody tr th:only-of-type {\n",
       "        vertical-align: middle;\n",
       "    }\n",
       "\n",
       "    .dataframe tbody tr th {\n",
       "        vertical-align: top;\n",
       "    }\n",
       "\n",
       "    .dataframe thead th {\n",
       "        text-align: right;\n",
       "    }\n",
       "</style>\n",
       "<table border=\"1\" class=\"dataframe\">\n",
       "  <thead>\n",
       "    <tr style=\"text-align: right;\">\n",
       "      <th></th>\n",
       "      <th>lastname</th>\n",
       "      <th>firstname</th>\n",
       "      <th>age</th>\n",
       "      <th>race</th>\n",
       "      <th>sex</th>\n",
       "      <th>state</th>\n",
       "      <th>county</th>\n",
       "      <th>tags</th>\n",
       "      <th>wcd</th>\n",
       "      <th>lacr</th>\n",
       "      <th>...</th>\n",
       "      <th>star</th>\n",
       "      <th>fc</th>\n",
       "      <th>mwid</th>\n",
       "      <th>f/mfe</th>\n",
       "      <th>p/fa</th>\n",
       "      <th>om</th>\n",
       "      <th>ild</th>\n",
       "      <th>postdate</th>\n",
       "      <th>id</th>\n",
       "      <th>time_elapsed</th>\n",
       "    </tr>\n",
       "  </thead>\n",
       "  <tbody>\n",
       "    <tr>\n",
       "      <th>771</th>\n",
       "      <td>Gatling</td>\n",
       "      <td>Paul</td>\n",
       "      <td>29.0</td>\n",
       "      <td>Black</td>\n",
       "      <td>Male</td>\n",
       "      <td>New York</td>\n",
       "      <td>Kings</td>\n",
       "      <td>CIU;#H;#P</td>\n",
       "      <td>Murder</td>\n",
       "      <td>NaN</td>\n",
       "      <td>...</td>\n",
       "      <td>NaN</td>\n",
       "      <td>NaN</td>\n",
       "      <td>MWID</td>\n",
       "      <td>NaN</td>\n",
       "      <td>NaN</td>\n",
       "      <td>OM</td>\n",
       "      <td>NaN</td>\n",
       "      <td>2016-05-05</td>\n",
       "      <td>4881</td>\n",
       "      <td>52</td>\n",
       "    </tr>\n",
       "  </tbody>\n",
       "</table>\n",
       "<p>1 rows × 25 columns</p>\n",
       "</div>"
      ],
      "text/plain": [
       "    lastname firstname   age   race   sex     state county       tags     wcd  \\\n",
       "771  Gatling      Paul  29.0  Black  Male  New York  Kings  CIU;#H;#P  Murder   \n",
       "\n",
       "    lacr     ...       star   fc  mwid f/mfe p/fa  om  ild   postdate    id  \\\n",
       "771  NaN     ...        NaN  NaN  MWID   NaN  NaN  OM  NaN 2016-05-05  4881   \n",
       "\n",
       "    time_elapsed  \n",
       "771           52  \n",
       "\n",
       "[1 rows x 25 columns]"
      ]
     },
     "execution_count": 7,
     "metadata": {},
     "output_type": "execute_result"
    }
   ],
   "source": [
    "df[df['time_elapsed']==longest]"
   ]
  },
  {
   "cell_type": "code",
   "execution_count": 8,
   "metadata": {},
   "outputs": [],
   "source": [
    "lamb = df['time_elapsed'].mean()\n",
    "def expdist(t,lamb): return( np.exp(-t/lamb)/lamb)"
   ]
  },
  {
   "cell_type": "code",
   "execution_count": 9,
   "metadata": {},
   "outputs": [],
   "source": [
    "t = np.arange(0,53,0.25)\n",
    "y = expdist(t, lamb)\n"
   ]
  },
  {
   "cell_type": "code",
   "execution_count": 10,
   "metadata": {},
   "outputs": [
    {
     "data": {
      "text/plain": [
       "[<matplotlib.lines.Line2D at 0x12216e550>]"
      ]
     },
     "execution_count": 10,
     "metadata": {},
     "output_type": "execute_result"
    },
    {
     "data": {
      "image/png": "[encoded data removed]",
      "text/plain": [
       "<Figure size 720x720 with 1 Axes>"
      ]
     },
     "metadata": {
      "needs_background": "light"
     },
     "output_type": "display_data"
    }
   ],
   "source": [
    "fig, ax = plt.subplots(figsize=(10,10))\n",
    "df.hist('time_elapsed', bins=np.arange(longest)-0.5, ax=ax,color='b',\n",
    "       weights = np.ones_like(df['time_elapsed']) / len(df['time_elapsed']))\n",
    "ax.set_title('Time between conviction and exoneration')\n",
    "ax.set_xlabel('years')\n",
    "ax.set_ylabel('count')\n",
    "ax.grid(False)\n",
    "\n",
    "ax.plot(t,y,c='r',linewidth=5)"
   ]
  },
  {
   "cell_type": "code",
   "execution_count": 51,
   "metadata": {},
   "outputs": [
    {
     "name": "stdout",
     "output_type": "stream",
     "text": [
      "52\n"
     ]
    }
   ],
   "source": [
    "print(longest)\n",
    "\n",
    "count, division = np.histogram(df['time_elapsed'], bins=np.arange(longest+2)-0.5)"
   ]
  },
  {
   "cell_type": "code",
   "execution_count": 52,
   "metadata": {},
   "outputs": [
    {
     "data": {
      "text/plain": [
       "54"
      ]
     },
     "execution_count": 52,
     "metadata": {},
     "output_type": "execute_result"
    }
   ],
   "source": [
    "len(division)"
   ]
  },
  {
   "cell_type": "code",
   "execution_count": 53,
   "metadata": {},
   "outputs": [
    {
     "data": {
      "text/plain": [
       "array([ 98, 176, 182, 163, 154, 129, 128, 105,  82,  74,  94,  61,  83,\n",
       "        81,  67,  65,  60,  64,  64,  57,  53,  41,  40,  38,  37,  32,\n",
       "        34,  26,  22,  12,  16,  10,   8,   9,  11,   7,   6,   2,   6,\n",
       "         3,  11,   1,   0,   4,   0,   1,   2,   0,   0,   0,   0,   0,\n",
       "         1])"
      ]
     },
     "execution_count": 53,
     "metadata": {},
     "output_type": "execute_result"
    }
   ],
   "source": [
    "len(count)\n",
    "count"
   ]
  },
  {
   "cell_type": "code",
   "execution_count": 62,
   "metadata": {},
   "outputs": [
    {
     "data": {
      "text/plain": [
       "[<matplotlib.lines.Line2D at 0x11a0edef0>]"
      ]
     },
     "execution_count": 62,
     "metadata": {},
     "output_type": "execute_result"
    },
    {
     "data": {
      "image/png": "[encoded data removed]",
      "text/plain": [
       "<Figure size 432x288 with 1 Axes>"
      ]
     },
     "metadata": {
      "needs_background": "light"
     },
     "output_type": "display_data"
    }
   ],
   "source": [
    "plt.plot(np.arange(longest+1),count / np.sum(count),c='k',marker='.')\n",
    "\n",
    "lamb = df['time_elapsed'].mean()\n",
    "t = np.arange(0,55,0.25)\n",
    "y = expdist(t, lamb)\n",
    "\n",
    "plt.plot(t,y)"
   ]
  },
  {
   "cell_type": "markdown",
   "metadata": {},
   "source": [
    "How to sample from this? Can use `np.random.choice`, but this only works for the case in which we have discrete sample space and the probabilities over these sum to 1. In the current case, we have a distribution over a continuous space (which we obtained from some data), so how can we sample from this? \n",
    "\n",
    "A good way to go is to obtain the cdf of the distribution. "
   ]
  },
  {
   "cell_type": "code",
   "execution_count": 65,
   "metadata": {},
   "outputs": [
    {
     "ename": "ValueError",
     "evalue": "probabilities do not sum to 1",
     "output_type": "error",
     "traceback": [
      "\u001b[0;31m---------------------------------------------------------------------------\u001b[0m",
      "\u001b[0;31mValueError\u001b[0m                                Traceback (most recent call last)",
      "\u001b[0;32m<ipython-input-65-bc04f28e834a>\u001b[0m in \u001b[0;36m<module>\u001b[0;34m\u001b[0m\n\u001b[1;32m      1\u001b[0m np.random.choice(np.arange(0,longest+1), \n\u001b[0;32m----> 2\u001b[0;31m                  p=expdist(np.arange(0,longest+1),lamb))\n\u001b[0m",
      "\u001b[0;32mmtrand.pyx\u001b[0m in \u001b[0;36mmtrand.RandomState.choice\u001b[0;34m()\u001b[0m\n",
      "\u001b[0;31mValueError\u001b[0m: probabilities do not sum to 1"
     ]
    }
   ],
   "source": [
    "# doesn't work!\n",
    "p=expdist(np.arange(0,longest+1),lamb)\n",
    "np.random.choice(np.arange(0,longest+1), \n",
    "                 p=p)"
   ]
  },
  {
   "cell_type": "code",
   "execution_count": 70,
   "metadata": {},
   "outputs": [
    {
     "data": {
      "text/plain": [
       "[<matplotlib.lines.Line2D at 0x11a2e4320>]"
      ]
     },
     "execution_count": 70,
     "metadata": {},
     "output_type": "execute_result"
    },
    {
     "data": {
      "image/png": "[encoded data removed]",
      "text/plain": [
       "<Figure size 432x288 with 1 Axes>"
      ]
     },
     "metadata": {
      "needs_background": "light"
     },
     "output_type": "display_data"
    }
   ],
   "source": [
    "p=expdist(np.arange(0,longest+1),lamb)\n",
    "cdf = np.cumsum(p)\n",
    "\n",
    "plt.plot(np.arange(0,longest+1), cdf)"
   ]
  },
  {
   "cell_type": "markdown",
   "metadata": {},
   "source": [
    "We need the inverse of the cdf. We can obtain this, hopefully, by analytically computing the cdf and then analytically taking the inverse.\n",
    "\n",
    "\\begin{equation}\n",
    "cdf\\left(x\\right) = \\int_0^x p\\left(u\\right)\\, du\n",
    "\\end{equation}\n",
    "\n",
    "In the case of the exponential distribution, $p\\left(x;\\lambda\\right) = \\lambda^{-1} \\exp\\left(- x/\\lambda\\right)$. Then this integral gives\n",
    "\n",
    "\\begin{equation}\n",
    "cdf\\left(x\\right) = \\lambda^{-1} \\int_0^x \\exp\\left(-u/\\lambda\\right)\\, du = 1 - \\exp\\left(-x/\\lambda\\right)\n",
    "\\end{equation}\n",
    "\n",
    "The inverse of this can be calculated by hand as\n",
    "\n",
    "\\begin{equation}\n",
    "cdf^{-1}\\left(t\\right) = - \\lambda \\log \\left(1-t\\right)\n",
    "\\end{equation}"
   ]
  },
  {
   "cell_type": "code",
   "execution_count": 74,
   "metadata": {},
   "outputs": [
    {
     "data": {
      "text/plain": [
       "[<matplotlib.lines.Line2D at 0x119f08d30>]"
      ]
     },
     "execution_count": 74,
     "metadata": {},
     "output_type": "execute_result"
    },
    {
     "data": {
      "image/png": "[encoded data removed]",
      "text/plain": [
       "<Figure size 432x288 with 1 Axes>"
      ]
     },
     "metadata": {
      "needs_background": "light"
     },
     "output_type": "display_data"
    }
   ],
   "source": [
    "def expinv(t,lamb):\n",
    "    return(-lamb*np.log(1.-t))\n",
    "\n",
    "t = np.arange(0,1,0.01)\n",
    "c = expinv(t,lamb)\n",
    "\n",
    "plt.plot(t,c)"
   ]
  },
  {
   "cell_type": "markdown",
   "metadata": {},
   "source": [
    "To apply the inverse transform sampling, simply draw a random number from $U\\left(\\left[0,1\\right]\\right)$ and evaluate the inverse cdf at this value to obtain the sample. The samples drawn this way will be exponentially distributed."
   ]
  },
  {
   "cell_type": "code",
   "execution_count": 111,
   "metadata": {},
   "outputs": [
    {
     "data": {
      "text/plain": [
       "[<matplotlib.lines.Line2D at 0x11c53d358>]"
      ]
     },
     "execution_count": 111,
     "metadata": {},
     "output_type": "execute_result"
    },
    {
     "data": {
      "image/png": "[encoded data removed]",
      "text/plain": [
       "<Figure size 432x288 with 1 Axes>"
      ]
     },
     "metadata": {
      "needs_background": "light"
     },
     "output_type": "display_data"
    }
   ],
   "source": [
    "t_sam = np.random.rand(10000,1)\n",
    "x_sam = expinv(t_sam,lamb)\n",
    "\n",
    "plt.hist(x_sam, bins=np.arange(0,longest+2)-0.5,density=True,color=(0.2,0.5,0.2))\n",
    "\n",
    "\n",
    "lamb = df['time_elapsed'].mean()\n",
    "t = np.arange(0,55,0.25)\n",
    "y = expdist(t, lamb)\n",
    "\n",
    "plt.plot(t,y,c=(1, 0.3, 0.7))"
   ]
  },
  {
   "cell_type": "code",
   "execution_count": 118,
   "metadata": {},
   "outputs": [
    {
     "data": {
      "text/plain": [
       "array([[12.24916151]])"
      ]
     },
     "execution_count": 118,
     "metadata": {},
     "output_type": "execute_result"
    }
   ],
   "source": [
    "expinv(np.random.rand(1,1),lamb)"
   ]
  },
  {
   "cell_type": "code",
   "execution_count": null,
   "metadata": {},
   "outputs": [],
   "source": []
  },
  {
   "cell_type": "code",
   "execution_count": null,
   "metadata": {},
   "outputs": [],
   "source": []
  },
  {
   "cell_type": "code",
   "execution_count": null,
   "metadata": {},
   "outputs": [],
   "source": []
  },
  {
   "cell_type": "code",
   "execution_count": null,
   "metadata": {},
   "outputs": [],
   "source": []
  },
  {
   "cell_type": "code",
   "execution_count": 30,
   "metadata": {},
   "outputs": [
    {
     "data": {
      "image/png": "[encoded data removed]",
      "text/plain": [
       "<Figure size 720x720 with 1 Axes>"
      ]
     },
     "metadata": {
      "needs_background": "light"
     },
     "output_type": "display_data"
    }
   ],
   "source": [
    "df_white = df[df['race']=='White']\n",
    "df_black = df[df['race']=='Black']\n",
    "\n",
    "fig, ax = plt.subplots(figsize=(10,10))\n",
    "bins = np.arange(0,50,100)\n",
    "ax.hist(df_white['time_elapsed'],alpha=0.4, label='white')\n",
    "ax.hist(df_black['time_elapsed'],alpha=0.4, label='black')\n",
    "plt.legend()\n",
    "plt.show()\n",
    "\n",
    "#df_white.hist('time_elapsed',ax=ax)\n",
    "#df_black.hist('time_elapsed',ax=ax)"
   ]
  },
  {
   "cell_type": "code",
   "execution_count": 71,
   "metadata": {},
   "outputs": [
    {
     "data": {
      "text/plain": [
       "(914, 25)"
      ]
     },
     "execution_count": 71,
     "metadata": {},
     "output_type": "execute_result"
    }
   ],
   "source": [
    "df_white.shape"
   ]
  },
  {
   "cell_type": "code",
   "execution_count": null,
   "metadata": {},
   "outputs": [],
   "source": []
  }
 ],
 "metadata": {
  "kernelspec": {
   "display_name": "Python 3",
   "language": "python",
   "name": "python3"
  },
  "language_info": {
   "codemirror_mode": {
    "name": "ipython",
    "version": 3
   },
   "file_extension": ".py",
   "mimetype": "text/x-python",
   "name": "python",
   "nbconvert_exporter": "python",
   "pygments_lexer": "ipython3",
   "version": "3.5.2"
  }
 },
 "nbformat": 4,
 "nbformat_minor": 2
}
